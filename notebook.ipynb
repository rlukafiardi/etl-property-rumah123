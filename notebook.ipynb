{
 "cells": [
  {
   "cell_type": "code",
   "execution_count": 1,
   "id": "76b4fec4",
   "metadata": {},
   "outputs": [],
   "source": [
    "import pandas as pd\n",
    "\n",
    "from src.extract import extract_data\n",
    "from src.transform import transform_data\n",
    "from src.load import load_to_postgres\n",
    "from utils.helper import read_config, save_to_csv"
   ]
  },
  {
   "cell_type": "code",
   "execution_count": 2,
   "id": "66681ac3",
   "metadata": {},
   "outputs": [],
   "source": [
    "# Read extract configuration\n",
    "extract_cfg = read_config(\"extract.yaml\")\n",
    "regions = extract_cfg[\"regions\"]\n",
    "ads_type = extract_cfg[\"ads_type\"]\n",
    "property_type = extract_cfg[\"property_type\"]\n",
    "num_pages = extract_cfg[\"num_pages\"]"
   ]
  },
  {
   "cell_type": "code",
   "execution_count": 6,
   "id": "9169eecc",
   "metadata": {},
   "outputs": [
    {
     "data": {
      "text/plain": [
       "'dki-jakarta'"
      ]
     },
     "execution_count": 6,
     "metadata": {},
     "output_type": "execute_result"
    }
   ],
   "source": [
    "regions[0]['id']"
   ]
  },
  {
   "cell_type": "code",
   "execution_count": 7,
   "id": "f0e4b93d",
   "metadata": {},
   "outputs": [],
   "source": [
    "region_id = regions[0]['id']\n",
    "admin_list = regions[0]['admins']\n",
    "region_name = regions[0]['name']\n",
    "\n",
    "# Perform extraction\n",
    "raw_data = extract_data(\n",
    "    ads_type,\n",
    "    region_id,\n",
    "    property_type,\n",
    "    num_pages,\n",
    "    admin_list\n",
    ")\n",
    "\n",
    "filename = f\"data_{region_name}_{property_type}_{ads_type}\"\n",
    "raw_data_path = save_to_csv(raw_data, filename, filepath='./data/raw')"
   ]
  },
  {
   "cell_type": "code",
   "execution_count": 8,
   "id": "1f4f3582",
   "metadata": {},
   "outputs": [],
   "source": [
    "raw_data = pd.read_csv(raw_data_path)\n",
    "\n",
    "# Perform transformation\n",
    "processed_data = transform_data(raw_data)\n",
    "\n",
    "filename = f\"data_{region_name}_{property_type}_{ads_type}\"\n",
    "processed_data_path = save_to_csv(processed_data, filename, filepath='./data/processed')"
   ]
  }
 ],
 "metadata": {
  "kernelspec": {
   "display_name": "base",
   "language": "python",
   "name": "python3"
  },
  "language_info": {
   "codemirror_mode": {
    "name": "ipython",
    "version": 3
   },
   "file_extension": ".py",
   "mimetype": "text/x-python",
   "name": "python",
   "nbconvert_exporter": "python",
   "pygments_lexer": "ipython3",
   "version": "3.11.11"
  }
 },
 "nbformat": 4,
 "nbformat_minor": 5
}
